{
 "cells": [
  {
   "cell_type": "code",
   "execution_count": 69,
   "metadata": {
    "collapsed": true
   },
   "outputs": [],
   "source": [
    "import pandas as pd\n",
    "import matplotlib.pyplot as plt"
   ]
  },
  {
   "cell_type": "code",
   "execution_count": 89,
   "metadata": {},
   "outputs": [
    {
     "name": "stderr",
     "output_type": "stream",
     "text": [
      "/Users/shenghao/anaconda/lib/python3.6/site-packages/ipykernel_launcher.py:4: SettingWithCopyWarning: \n",
      "A value is trying to be set on a copy of a slice from a DataFrame.\n",
      "Try using .loc[row_indexer,col_indexer] = value instead\n",
      "\n",
      "See the caveats in the documentation: http://pandas.pydata.org/pandas-docs/stable/indexing.html#indexing-view-versus-copy\n",
      "  after removing the cwd from sys.path.\n",
      "/Users/shenghao/anaconda/lib/python3.6/site-packages/ipykernel_launcher.py:5: SettingWithCopyWarning: \n",
      "A value is trying to be set on a copy of a slice from a DataFrame.\n",
      "Try using .loc[row_indexer,col_indexer] = value instead\n",
      "\n",
      "See the caveats in the documentation: http://pandas.pydata.org/pandas-docs/stable/indexing.html#indexing-view-versus-copy\n",
      "  \"\"\"\n",
      "/Users/shenghao/anaconda/lib/python3.6/site-packages/ipykernel_launcher.py:6: SettingWithCopyWarning: \n",
      "A value is trying to be set on a copy of a slice from a DataFrame.\n",
      "Try using .loc[row_indexer,col_indexer] = value instead\n",
      "\n",
      "See the caveats in the documentation: http://pandas.pydata.org/pandas-docs/stable/indexing.html#indexing-view-versus-copy\n",
      "  \n",
      "/Users/shenghao/anaconda/lib/python3.6/site-packages/ipykernel_launcher.py:7: SettingWithCopyWarning: \n",
      "A value is trying to be set on a copy of a slice from a DataFrame.\n",
      "Try using .loc[row_indexer,col_indexer] = value instead\n",
      "\n",
      "See the caveats in the documentation: http://pandas.pydata.org/pandas-docs/stable/indexing.html#indexing-view-versus-copy\n",
      "  import sys\n",
      "/Users/shenghao/anaconda/lib/python3.6/site-packages/ipykernel_launcher.py:8: SettingWithCopyWarning: \n",
      "A value is trying to be set on a copy of a slice from a DataFrame.\n",
      "Try using .loc[row_indexer,col_indexer] = value instead\n",
      "\n",
      "See the caveats in the documentation: http://pandas.pydata.org/pandas-docs/stable/indexing.html#indexing-view-versus-copy\n",
      "  \n",
      "/Users/shenghao/anaconda/lib/python3.6/site-packages/ipykernel_launcher.py:9: SettingWithCopyWarning: \n",
      "A value is trying to be set on a copy of a slice from a DataFrame.\n",
      "Try using .loc[row_indexer,col_indexer] = value instead\n",
      "\n",
      "See the caveats in the documentation: http://pandas.pydata.org/pandas-docs/stable/indexing.html#indexing-view-versus-copy\n",
      "  if __name__ == '__main__':\n",
      "/Users/shenghao/anaconda/lib/python3.6/site-packages/ipykernel_launcher.py:10: SettingWithCopyWarning: \n",
      "A value is trying to be set on a copy of a slice from a DataFrame.\n",
      "Try using .loc[row_indexer,col_indexer] = value instead\n",
      "\n",
      "See the caveats in the documentation: http://pandas.pydata.org/pandas-docs/stable/indexing.html#indexing-view-versus-copy\n",
      "  # Remove the CWD from sys.path while we load stuff.\n"
     ]
    },
    {
     "data": {
      "text/html": [
       "<div>\n",
       "<style scoped>\n",
       "    .dataframe tbody tr th:only-of-type {\n",
       "        vertical-align: middle;\n",
       "    }\n",
       "\n",
       "    .dataframe tbody tr th {\n",
       "        vertical-align: top;\n",
       "    }\n",
       "\n",
       "    .dataframe thead th {\n",
       "        text-align: right;\n",
       "    }\n",
       "</style>\n",
       "<table border=\"1\" class=\"dataframe\">\n",
       "  <thead>\n",
       "    <tr style=\"text-align: right;\">\n",
       "      <th></th>\n",
       "      <th>City</th>\n",
       "      <th>SubArea</th>\n",
       "      <th>Date</th>\n",
       "      <th>Address</th>\n",
       "      <th>BuildingType</th>\n",
       "      <th>LandArea</th>\n",
       "      <th>BuiltUp</th>\n",
       "      <th>PricePsf</th>\n",
       "      <th>Price</th>\n",
       "      <th>CityAddress</th>\n",
       "      <th>Year</th>\n",
       "    </tr>\n",
       "  </thead>\n",
       "  <tbody>\n",
       "    <tr>\n",
       "      <th>0</th>\n",
       "      <td>ampang</td>\n",
       "      <td>taman-cahaya</td>\n",
       "      <td>2017-01-25</td>\n",
       "      <td>JALAN CAHAYA 15</td>\n",
       "      <td>TERRACE FACTORY - END LOT</td>\n",
       "      <td>6,488</td>\n",
       "      <td>10,373</td>\n",
       "      <td>432</td>\n",
       "      <td>2,800,000</td>\n",
       "      <td>ampang, JALAN CAHAYA 15</td>\n",
       "      <td>2017</td>\n",
       "    </tr>\n",
       "    <tr>\n",
       "      <th>1</th>\n",
       "      <td>ampang</td>\n",
       "      <td>taman-cahaya</td>\n",
       "      <td>2015-06-07</td>\n",
       "      <td>JALAN CAHAYA 15</td>\n",
       "      <td>TERRACE FACTORY</td>\n",
       "      <td>2,800</td>\n",
       "      <td>10,373</td>\n",
       "      <td>429</td>\n",
       "      <td>1,200,000</td>\n",
       "      <td>ampang, JALAN CAHAYA 15</td>\n",
       "      <td>2015</td>\n",
       "    </tr>\n",
       "    <tr>\n",
       "      <th>3</th>\n",
       "      <td>ampang</td>\n",
       "      <td>taman-dagang-jaya</td>\n",
       "      <td>2016-12-14</td>\n",
       "      <td>JALAN DAGANG 8A</td>\n",
       "      <td>TERRACE FACTORY - INTERMEDIATE</td>\n",
       "      <td>1,916</td>\n",
       "      <td>5,466</td>\n",
       "      <td>679</td>\n",
       "      <td>1,300,000</td>\n",
       "      <td>ampang, JALAN DAGANG 8A</td>\n",
       "      <td>2016</td>\n",
       "    </tr>\n",
       "    <tr>\n",
       "      <th>4</th>\n",
       "      <td>ampang</td>\n",
       "      <td>taman-dagang-jaya</td>\n",
       "      <td>2015-10-20</td>\n",
       "      <td>JALAN DAGANG 10</td>\n",
       "      <td>TERRACE FACTORY - INTERMEDIATE</td>\n",
       "      <td>1,916</td>\n",
       "      <td>5,466</td>\n",
       "      <td>611</td>\n",
       "      <td>1,170,000</td>\n",
       "      <td>ampang, JALAN DAGANG 10</td>\n",
       "      <td>2015</td>\n",
       "    </tr>\n",
       "    <tr>\n",
       "      <th>6</th>\n",
       "      <td>subang jaya</td>\n",
       "      <td>taman-subang-permai</td>\n",
       "      <td>2017-03-05</td>\n",
       "      <td>JALAN USJ 1/33</td>\n",
       "      <td>TERRACE FACTORY</td>\n",
       "      <td>2,000</td>\n",
       "      <td>2,847</td>\n",
       "      <td>400</td>\n",
       "      <td>800,000</td>\n",
       "      <td>subang jaya, JALAN USJ 1/33</td>\n",
       "      <td>2017</td>\n",
       "    </tr>\n",
       "  </tbody>\n",
       "</table>\n",
       "</div>"
      ],
      "text/plain": [
       "          City              SubArea       Date          Address  \\\n",
       "0       ampang         taman-cahaya 2017-01-25  JALAN CAHAYA 15   \n",
       "1       ampang         taman-cahaya 2015-06-07  JALAN CAHAYA 15   \n",
       "3       ampang    taman-dagang-jaya 2016-12-14  JALAN DAGANG 8A   \n",
       "4       ampang    taman-dagang-jaya 2015-10-20  JALAN DAGANG 10   \n",
       "6  subang jaya  taman-subang-permai 2017-03-05   JALAN USJ 1/33   \n",
       "\n",
       "                     BuildingType LandArea BuiltUp PricePsf      Price  \\\n",
       "0       TERRACE FACTORY - END LOT    6,488  10,373      432  2,800,000   \n",
       "1                 TERRACE FACTORY    2,800  10,373      429  1,200,000   \n",
       "3  TERRACE FACTORY - INTERMEDIATE    1,916   5,466      679  1,300,000   \n",
       "4  TERRACE FACTORY - INTERMEDIATE    1,916   5,466      611  1,170,000   \n",
       "6                 TERRACE FACTORY    2,000   2,847      400    800,000   \n",
       "\n",
       "                   CityAddress  Year  \n",
       "0      ampang, JALAN CAHAYA 15  2017  \n",
       "1      ampang, JALAN CAHAYA 15  2015  \n",
       "3      ampang, JALAN DAGANG 8A  2016  \n",
       "4      ampang, JALAN DAGANG 10  2015  \n",
       "6  subang jaya, JALAN USJ 1/33  2017  "
      ]
     },
     "execution_count": 89,
     "metadata": {},
     "output_type": "execute_result"
    }
   ],
   "source": [
    "industrial_raw = pd.read_csv('brickz/industrial.csv')\n",
    "#industrial_raw[industrial_raw['City'] == 'beranang']\n",
    "industrial_df = industrial_raw.dropna()\n",
    "industrial_df['City'] = industrial_df['City'].str.replace('-', ' ')\n",
    "industrial_df['Address'] = industrial_df['Address'].str.lstrip('✕-.,() ')\n",
    "industrial_df['LandArea'] = industrial_df['LandArea'].str.replace(' ft²', '')\n",
    "industrial_df['BuiltUp'] = industrial_df['BuiltUp'].str.replace(' ft²', '')\n",
    "industrial_df['CityAddress'] = industrial_df['City'] + ', ' + industrial_df['Address']\n",
    "industrial_df['Date'] = pd.to_datetime(industrial_df['Date'])\n",
    "industrial_df['Year'] = industrial_df['Date'].dt.year\n",
    "industrial_df.head()"
   ]
  },
  {
   "cell_type": "markdown",
   "metadata": {},
   "source": [
    "Predictors: City, CityAddress -> geo-coordinates, Year, LandArea<br/>\n",
    "Target: PricePsf"
   ]
  },
  {
   "cell_type": "code",
   "execution_count": 90,
   "metadata": {},
   "outputs": [
    {
     "data": {
      "text/plain": [
       "City\n",
       "ampang            62\n",
       "balakong          42\n",
       "batu arang        10\n",
       "beranang          10\n",
       "kajang            70\n",
       "klang            121\n",
       "petaling jaya     75\n",
       "rawang           101\n",
       "selayang          55\n",
       "semenyih         150\n",
       "serendah          55\n",
       "shah alam        170\n",
       "subang jaya       98\n",
       "dtype: int64"
      ]
     },
     "execution_count": 90,
     "metadata": {},
     "output_type": "execute_result"
    }
   ],
   "source": [
    "industrial_df.groupby('City').size()"
   ]
  },
  {
   "cell_type": "code",
   "execution_count": 91,
   "metadata": {},
   "outputs": [
    {
     "data": {
      "text/plain": [
       "Year\n",
       "1990      1\n",
       "1993      1\n",
       "1994      2\n",
       "1995      4\n",
       "1996      3\n",
       "1997      3\n",
       "1999      4\n",
       "2000      2\n",
       "2001      1\n",
       "2002      2\n",
       "2004      2\n",
       "2005      1\n",
       "2006      2\n",
       "2008      6\n",
       "2009      4\n",
       "2010      3\n",
       "2011     10\n",
       "2012     19\n",
       "2013     91\n",
       "2014    168\n",
       "2015    183\n",
       "2016    258\n",
       "2017    249\n",
       "dtype: int64"
      ]
     },
     "execution_count": 91,
     "metadata": {},
     "output_type": "execute_result"
    }
   ],
   "source": [
    "industrial_df.groupby('Year').size()"
   ]
  },
  {
   "cell_type": "code",
   "execution_count": 109,
   "metadata": {},
   "outputs": [
    {
     "name": "stderr",
     "output_type": "stream",
     "text": [
      "/Users/shenghao/anaconda/lib/python3.6/site-packages/ipykernel_launcher.py:2: SettingWithCopyWarning: \n",
      "A value is trying to be set on a copy of a slice from a DataFrame.\n",
      "Try using .loc[row_indexer,col_indexer] = value instead\n",
      "\n",
      "See the caveats in the documentation: http://pandas.pydata.org/pandas-docs/stable/indexing.html#indexing-view-versus-copy\n",
      "  \n"
     ]
    },
    {
     "data": {
      "text/plain": [
       "Year\n",
       "2013     91\n",
       "2014    168\n",
       "2015    183\n",
       "2016    258\n",
       "2017    249\n",
       "dtype: int64"
      ]
     },
     "execution_count": 109,
     "metadata": {},
     "output_type": "execute_result"
    }
   ],
   "source": [
    "industrial_out = industrial_df[['City', 'Year', 'CityAddress', 'BuildingType', 'LandArea', 'PricePsf']]\n",
    "industrial_out['CityAddress'] = industrial_out['CityAddress'].str.lower()\n",
    "industrial_out = industrial_out[industrial_out['Year'] > 2012]\n",
    "industrial_out.groupby('Year').size()"
   ]
  },
  {
   "cell_type": "code",
   "execution_count": 110,
   "metadata": {
    "collapsed": true
   },
   "outputs": [],
   "source": [
    "industrial_out.to_csv('property.csv', encoding='utf-8', index=False)"
   ]
  },
  {
   "cell_type": "code",
   "execution_count": null,
   "metadata": {
    "collapsed": true
   },
   "outputs": [],
   "source": []
  }
 ],
 "metadata": {
  "kernelspec": {
   "display_name": "Python 3",
   "language": "python",
   "name": "python3"
  },
  "language_info": {
   "codemirror_mode": {
    "name": "ipython",
    "version": 3
   },
   "file_extension": ".py",
   "mimetype": "text/x-python",
   "name": "python",
   "nbconvert_exporter": "python",
   "pygments_lexer": "ipython3",
   "version": "3.6.2"
  }
 },
 "nbformat": 4,
 "nbformat_minor": 2
}
